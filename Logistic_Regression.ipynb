{
  "nbformat": 4,
  "nbformat_minor": 0,
  "metadata": {
    "colab": {
      "provenance": []
    },
    "kernelspec": {
      "name": "python3",
      "display_name": "Python 3"
    },
    "language_info": {
      "name": "python"
    }
  },
  "cells": [
    {
      "cell_type": "markdown",
      "source": [
        "# THEORY"
      ],
      "metadata": {
        "id": "phD5oHed7uAS"
      }
    },
    {
      "cell_type": "markdown",
      "source": [
        "#### 1) What is Logistic Regression, and how does it differ from Linear Regression ?"
      ],
      "metadata": {
        "id": "6RZOq3r37t_m"
      }
    },
    {
      "cell_type": "markdown",
      "source": [
        "Linear regression predicts continuous outcomes, while logistic regression predicts categorical outcomes, specifically the probability of belonging to a particular class, using a sigmoid function, which maps any real-valued set of independent variables input into a value between 0 and 1."
      ],
      "metadata": {
        "id": "kRqPoKPQ7t66"
      }
    },
    {
      "cell_type": "markdown",
      "source": [
        "#### 2) What is the mathematical equation of Logistic Regression ?"
      ],
      "metadata": {
        "id": "MS31e0sA7t2H"
      }
    },
    {
      "cell_type": "markdown",
      "source": [
        "The mathematical equation for logistic regression, which predicts the probability of a binary outcome, is p(x) = 1 / (1 + e^(-(b0 + b1x)))* where 'p(x)' is the predicted probability, 'x' is the input feature, 'b0' is the intercept, 'b1' is the coefficient, and 'e' is the base of the natural logarithm."
      ],
      "metadata": {
        "id": "keyQOAJ47t1b"
      }
    },
    {
      "cell_type": "markdown",
      "source": [
        "#### 3) Why do we use the Sigmoid function in Logistic Regression ?"
      ],
      "metadata": {
        "id": "GApPmSm57txC"
      }
    },
    {
      "cell_type": "markdown",
      "source": [
        "The sigmoid function is used in logistic regression to map the model's output, which is a linear combination of input features, to a probability between 0 and 1, making it suitable for binary classification tasks."
      ],
      "metadata": {
        "id": "PbP8o20i7twS"
      }
    },
    {
      "cell_type": "markdown",
      "source": [
        "#### 4) What is the cost function of Logistic Regression ?"
      ],
      "metadata": {
        "id": "0yMAnmar7tr4"
      }
    },
    {
      "cell_type": "markdown",
      "source": [
        "A cost function is a mathematical function that calculates the difference between the target actual values (ground truth) and the values predicted by the model. A function that assesses a machine learning model's performance also referred to as a loss function or objective function."
      ],
      "metadata": {
        "id": "n5rU1DTV7trK"
      }
    },
    {
      "cell_type": "markdown",
      "source": [
        "#### 5) What is Regularization in Logistic Regression? Why is it needed ?"
      ],
      "metadata": {
        "id": "q-IcvTo37tmm"
      }
    },
    {
      "cell_type": "markdown",
      "source": [
        "Regularization in logistic regression is a technique used to prevent overfitting by adding a penalty term to the cost function, which discourages large coefficients and promotes simpler models that generalize better to unseen data.\n",
        "\n",
        "\n",
        "*   Overfitting: Logistic regression, like other machine learning models, can overfit the training data, meaning it learns the training data too well and performs poorly on new, unseen data\n",
        "*   High Dimensionality: When there are many predictor variables (features), the model can become overly complex and prone to overfitting.\n",
        "\n"
      ],
      "metadata": {
        "id": "GR2PEX4S7tl5"
      }
    },
    {
      "cell_type": "markdown",
      "source": [
        "#### 6)  Explain the difference between Lasso, Ridge, and Elastic Net regression."
      ],
      "metadata": {
        "id": "QCPaM_mp7thJ"
      }
    },
    {
      "cell_type": "markdown",
      "source": [
        "Lasso regression performs feature selection by shrinking coefficients to zero, while Ridge regression shrinks coefficients towards zero but doesn't set them to zero, and Elastic Net combines both, offering a balance between feature selection and coefficient shrinkage."
      ],
      "metadata": {
        "id": "OaTJsofw7tgY"
      }
    },
    {
      "cell_type": "markdown",
      "source": [
        "#### 7) When should we use Elastic Net instead of Lasso or Ridge ?"
      ],
      "metadata": {
        "id": "XbPr9q6c7tbf"
      }
    },
    {
      "cell_type": "markdown",
      "source": [
        "Use Elastic Net when you have many correlated predictors and need a balance between feature selection (like Lasso) and coefficient shrinkage (like Ridge), especially in situations where Lasso might randomly select one correlated variable while ignoring others."
      ],
      "metadata": {
        "id": "Lp42rOMv7tar"
      }
    },
    {
      "cell_type": "markdown",
      "source": [
        "#### 8)  What is the impact of the regularization parameter (λ) in Logistic Regression ?"
      ],
      "metadata": {
        "id": "ryzzX6sU7tWS"
      }
    },
    {
      "cell_type": "markdown",
      "source": [
        "In logistic regression, the regularization parameter (λ) controls the strength of the penalty applied to the model's coefficients, influencing the model's complexity and preventing overfitting. A higher λ leads to stronger regularization, smaller coefficients, and a simpler model, while a lower λ results in weaker regularization, larger coefficients, and a potentially more complex model."
      ],
      "metadata": {
        "id": "hz3tlgHs7tVl"
      }
    },
    {
      "cell_type": "markdown",
      "source": [
        "#### 9) What are the key assumptions of Logistic Regression ?"
      ],
      "metadata": {
        "id": "rMEYC6nn7tRR"
      }
    },
    {
      "cell_type": "markdown",
      "source": [
        "The key assumptions of logistic regression include a binary or dichotomous dependent variable, independent observations, a linear relationship between the independent variables and the log-odds of the dependent variable, and the absence of multicollinearity among the independent variables."
      ],
      "metadata": {
        "id": "6Ft55bgN7tQf"
      }
    },
    {
      "cell_type": "markdown",
      "source": [
        "#### 10) What are some alternatives to Logistic Regression for classification tasks ?"
      ],
      "metadata": {
        "id": "1zeUuO017tLb"
      }
    },
    {
      "cell_type": "markdown",
      "source": [
        "For classification tasks, alternatives to logistic regression include decision trees, random forests, support vector machines (SVMs), neural networks, and Bayesian methods."
      ],
      "metadata": {
        "id": "YL5qUVh47tKv"
      }
    },
    {
      "cell_type": "markdown",
      "source": [
        "#### 11) What are Classification Evaluation Metrics ?"
      ],
      "metadata": {
        "id": "gAwpWLcC7tGn"
      }
    },
    {
      "cell_type": "markdown",
      "source": [
        "Evaluation metrics for classification include accuracy, precision, recall, F1 score, AUC, confusion matrix, and log loss. These metrics help to understand how well a classification model is performing.\n",
        "\n",
        "\n",
        "*   Accuracy - The ratio of correctly predicted observations to the total observations\n",
        "\n",
        "*   Precision - Evaluates the accuracy of the positive prediction made by the classifier\n",
        "\n",
        "*   Recall - Tells what proportion of actual positive classes was predicted correctly\n",
        "\n",
        "*   F1 score - A measure of the harmonic mean of precision and recall\n",
        "\n",
        "*   AUC - A value between 0 and 1, where a higher value indicates better model performance\n",
        "\n",
        "*   Confusion matrix - Also known as an error matrix, this metric gives us a matrix as output as NXN.\n",
        "\n",
        "\n",
        "\n",
        "\n",
        "\n",
        "\n",
        "\n"
      ],
      "metadata": {
        "id": "AxeE0Tha7s_T"
      }
    },
    {
      "cell_type": "markdown",
      "source": [
        "#### 12) How does class imbalance affect Logistic Regression ?"
      ],
      "metadata": {
        "id": "E1aKb4sk_c2t"
      }
    },
    {
      "cell_type": "markdown",
      "source": [
        "Class imbalance in logistic regression, where one class has significantly more observations than the other, leads to biased models that favor the majority class, potentially misclassifying the minority class and resulting in poor generalization."
      ],
      "metadata": {
        "id": "ham5v704_cit"
      }
    },
    {
      "cell_type": "markdown",
      "source": [
        "#### 13) What is Hyperparameter Tuning in Logistic Regression ?"
      ],
      "metadata": {
        "id": "H1Y8N7kW_cgc"
      }
    },
    {
      "cell_type": "markdown",
      "source": [
        "Hyperparameter tuning involves selecting the optimal values of hyperparameters, which affect the performance of the Logistic Regression model. Some common hyperparameters that can be tuned include the learning rate, regularization strength, batch size, and number of iterations."
      ],
      "metadata": {
        "id": "joajyopH_ccv"
      }
    },
    {
      "cell_type": "markdown",
      "source": [
        "#### 14) What are different solvers in Logistic Regression? Which one should be used ?"
      ],
      "metadata": {
        "id": "nImmI3qK_cai"
      }
    },
    {
      "cell_type": "markdown",
      "source": [
        "For small datasets, 'liblinear' is a good choice, whereas 'sag' and 'saga' are faster for large ones. For multiclass problems, all solvers except 'liblinear' minimize the full multinomial loss, 'liblinear' can only handle binary classification by default."
      ],
      "metadata": {
        "id": "yAWfSKfH_cW6"
      }
    },
    {
      "cell_type": "markdown",
      "source": [
        "#### 15) How is Logistic Regression extended for multiclass classification ?"
      ],
      "metadata": {
        "id": "jZ3KdEvy_cUx"
      }
    },
    {
      "cell_type": "markdown",
      "source": [
        "In the multinomial method, the logistic function is replaced with the softmax function which calculates the probability value of the class over n different classes. The only way to implement the multinomial method with logistic regression is to specify the multi_class=\"multinomial\" argument."
      ],
      "metadata": {
        "id": "JNKBJGPeB8GM"
      }
    },
    {
      "cell_type": "markdown",
      "source": [
        "#### 16) What are the advantages and disadvantages of Logistic Regression ?"
      ],
      "metadata": {
        "id": "O5VL-mA8B8C7"
      }
    },
    {
      "cell_type": "markdown",
      "source": [
        "Advantages of Logistic regression -\n",
        "* Easy to set up.\n",
        "* Efficient algorithms.\n",
        "* Reveals interrelationships between variables.\n",
        "* Transforms complex calculations into simple math problems.\n",
        "* Baseline for performance management.\n",
        "\n",
        "Disadvantages of Logistic Regression -\n",
        "* Logistic regression fails to predict a continuous outcome.\n",
        "* Logistic regression assumes linearity between the predicted (dependent) variable and the predictor (independent) variables.\n",
        "* Logistic regression may not be accurate if the sample size is too small."
      ],
      "metadata": {
        "id": "kpzhuF3WB8Ag"
      }
    },
    {
      "cell_type": "markdown",
      "source": [
        "#### 17) What are some use cases of Logistic Regression ?"
      ],
      "metadata": {
        "id": "Soz0_Wi1B78i"
      }
    },
    {
      "cell_type": "markdown",
      "source": [
        "Logistic regression, a statistical method for binary classification, finds use in diverse fields like healthcare, finance, and marketing for predicting outcomes like disease risk, fraud detection, and customer churn."
      ],
      "metadata": {
        "id": "IU1xGsOtB76U"
      }
    },
    {
      "cell_type": "markdown",
      "source": [
        "#### 18) What is the difference between Softmax Regression and Logistic Regression ?"
      ],
      "metadata": {
        "id": "Yv4klOjwDiLT"
      }
    },
    {
      "cell_type": "markdown",
      "source": [
        "Softmax regression is a generalization of logistic regression used for multi-class classification, while logistic regression is primarily used for binary classification, predicting one of two outcomes. Softmax regression uses the softmax function to output probabilities for multiple classes, ensuring they sum to one, whereas logistic regression uses the sigmoid function for binary classification."
      ],
      "metadata": {
        "id": "Fpw5qzanDiIs"
      }
    },
    {
      "cell_type": "markdown",
      "source": [
        "#### 19) How do we choose between One-vs-Rest (OvR) and Softmax for multiclass classification ?"
      ],
      "metadata": {
        "id": "Q3C3KtaKDiFa"
      }
    },
    {
      "cell_type": "markdown",
      "source": [
        "For multiclass classification, choosing between One-vs-Rest (OvR) and Softmax depends on the model's capabilities and the desired outcome.\n",
        "* OVR - which trains a binary classifier for each class against all others, is a good choice when the underlying binary classifier is efficient and scalable.\n",
        "* SOFTMAX - which directly outputs probabilities for all classes, is better suited for models that naturally handle multiclass outputs."
      ],
      "metadata": {
        "id": "3anOL0GEDiDB"
      }
    },
    {
      "cell_type": "markdown",
      "source": [
        "#### 20) How do we interpret coefficients in Logistic Regression ?"
      ],
      "metadata": {
        "id": "vTKf88ddES9b"
      }
    },
    {
      "cell_type": "markdown",
      "source": [
        "In logistic regression, coefficients represent the change in the log-odds of the outcome for a one-unit increase in the predictor variable, holding other variables constant. Exponentiating the coefficient yields the odds ratio, showing the multiplicative change in odds."
      ],
      "metadata": {
        "id": "Cq88V1hEB7Xy"
      }
    },
    {
      "cell_type": "markdown",
      "source": [
        "# PRACTICAL"
      ],
      "metadata": {
        "id": "3AIbOV2hEXpa"
      }
    },
    {
      "cell_type": "markdown",
      "source": [
        "#### 1) Write a Python program that loads a dataset, splits it into training and testing sets, applies Logistic Regression, and prints the model accuracy."
      ],
      "metadata": {
        "id": "NU1vgKtXEzm0"
      }
    },
    {
      "cell_type": "code",
      "source": [
        "from sklearn.model_selection import train_test_split\n",
        "from sklearn.linear_model import LogisticRegression\n",
        "from sklearn.datasets import load_iris\n",
        "from sklearn.metrics import accuracy_score\n",
        "\n",
        "# Load the Iris dataset\n",
        "iris = load_iris()\n",
        "X = iris.data\n",
        "y = iris.target\n",
        "\n",
        "# Split the dataset into training and testing sets\n",
        "X_train, X_test, y_train, y_test = train_test_split(X, y, test_size = 0.25, random_state = 1)\n",
        "\n",
        "# Create a Logistic Regression model\n",
        "model = LogisticRegression(max_iter=1000)\n",
        "\n",
        "# Train the model\n",
        "model.fit(X_train, y_train)\n",
        "\n",
        "# Make predictions on the test set\n",
        "y_pred = model.predict(X_test)\n",
        "\n",
        "# Calculate the accuracy of the model\n",
        "accuracy = accuracy_score(y_test, y_pred)\n",
        "print(\"Accuracy:\", accuracy)"
      ],
      "metadata": {
        "colab": {
          "base_uri": "https://localhost:8080/"
        },
        "id": "gHA_tDMOFBys",
        "outputId": "b3e10433-d801-4494-9fad-76230f4e08ad"
      },
      "execution_count": null,
      "outputs": [
        {
          "output_type": "stream",
          "name": "stdout",
          "text": [
            "Accuracy: 0.9736842105263158\n"
          ]
        }
      ]
    },
    {
      "cell_type": "markdown",
      "source": [
        "#### 2) Write a Python program to apply L1 regularization (Lasso) on a dataset using LogisticRegression(penalty='l1') and print the model accuracy."
      ],
      "metadata": {
        "id": "-j7DGoeUFduk"
      }
    },
    {
      "cell_type": "code",
      "source": [
        "# Create a Logistic Regression model with L1 regularization (Lasso)\n",
        "model_l1 = LogisticRegression(penalty='l1', solver='liblinear', max_iter=1000)\n",
        "\n",
        "# Train the model\n",
        "model_l1.fit(X_train, y_train)\n",
        "\n",
        "# Make predictions on the test set\n",
        "y_pred_l1 = model_l1.predict(X_test)\n",
        "\n",
        "# Calculate the accuracy of the model\n",
        "accuracy_l1 = accuracy_score(y_test, y_pred_l1)\n",
        "print(\"Accuracy with L1 regularization:\", accuracy_l1)"
      ],
      "metadata": {
        "colab": {
          "base_uri": "https://localhost:8080/"
        },
        "id": "_n7mFefNFJCb",
        "outputId": "fae57ec2-7572-4454-c47d-84a82dc03312"
      },
      "execution_count": null,
      "outputs": [
        {
          "output_type": "stream",
          "name": "stdout",
          "text": [
            "Accuracy with L1 regularization: 0.8947368421052632\n"
          ]
        }
      ]
    },
    {
      "cell_type": "markdown",
      "source": [
        "#### 3) Write a Python program to train Logistic Regression with L2 regularization (Ridge) using Logistic Regression (penalty='l2'). Print model accuracy and coefficients."
      ],
      "metadata": {
        "id": "E-8rb1PiFzqj"
      }
    },
    {
      "cell_type": "code",
      "source": [
        "# Create a Logistic Regression model with L2 regularization (Ridge)\n",
        "model_l2 = LogisticRegression(penalty='l2', max_iter=1000)\n",
        "\n",
        "# Train the model\n",
        "model_l2.fit(X_train, y_train)\n",
        "\n",
        "# Make predictions on the test set\n",
        "y_pred_l2 = model_l2.predict(X_test)\n",
        "\n",
        "# Calculate the accuracy of the model\n",
        "accuracy_l2 = accuracy_score(y_test, y_pred_l2)\n",
        "print(\"Accuracy with L2 regularization:\", accuracy_l2)\n",
        "\n",
        "# Print the model coefficients\n",
        "print(\"Coefficients:\", model_l2.coef_)"
      ],
      "metadata": {
        "colab": {
          "base_uri": "https://localhost:8080/"
        },
        "id": "XzwcBnu3FyZP",
        "outputId": "386171fd-146a-4b70-99fa-a8103ba9c39a"
      },
      "execution_count": null,
      "outputs": [
        {
          "output_type": "stream",
          "name": "stdout",
          "text": [
            "Accuracy with L2 regularization: 0.9736842105263158\n",
            "Coefficients: [[-0.43051977  0.80447008 -2.30452023 -0.95063609]\n",
            " [ 0.62920431 -0.42467439 -0.206373   -0.783506  ]\n",
            " [-0.19868453 -0.37979569  2.51089323  1.73414209]]\n"
          ]
        }
      ]
    },
    {
      "cell_type": "markdown",
      "source": [
        "#### 4) Write a Python program to train Logistic Regression with Elastic Net Regularization (penalty='elasticnet')."
      ],
      "metadata": {
        "id": "Be4TXWMBGQ2W"
      }
    },
    {
      "cell_type": "code",
      "source": [
        "import warnings\n",
        "warnings.filterwarnings('ignore')\n",
        "\n",
        "# Create a Logistic Regression model with Elastic Net regularization\n",
        "model_elasticnet = LogisticRegression(penalty='elasticnet', solver='saga', l1_ratio=0.5, max_iter=1000)\n",
        "\n",
        "# Train the model\n",
        "model_elasticnet.fit(X_train, y_train)\n",
        "\n",
        "# Make predictions on the test set\n",
        "y_pred_elasticnet = model_elasticnet.predict(X_test)\n",
        "\n",
        "# Calculate the accuracy of the model\n",
        "accuracy_elasticnet = accuracy_score(y_test, y_pred_elasticnet)\n",
        "print(\"Accuracy with Elastic Net regularization:\", accuracy_elasticnet)"
      ],
      "metadata": {
        "colab": {
          "base_uri": "https://localhost:8080/"
        },
        "id": "vGJRXWnYGMiQ",
        "outputId": "6240a851-8da6-4387-d7a7-e761dc0a6bc6"
      },
      "execution_count": null,
      "outputs": [
        {
          "output_type": "stream",
          "name": "stdout",
          "text": [
            "Accuracy with Elastic Net regularization: 0.9736842105263158\n"
          ]
        }
      ]
    },
    {
      "cell_type": "markdown",
      "source": [
        "#### 5) Write a Python program to train a Logistic Regression model for multiclass classification using multi_class='ovr'."
      ],
      "metadata": {
        "id": "Z_TVfcqZGxAT"
      }
    },
    {
      "cell_type": "code",
      "source": [
        "# Create a Logistic Regression model for multiclass classification using 'ovr'\n",
        "model_ovr = LogisticRegression(multi_class='ovr', max_iter=1000)\n",
        "\n",
        "# Train the model\n",
        "model_ovr.fit(X_train, y_train)\n",
        "\n",
        "# Make predictions on the test set\n",
        "y_pred_ovr = model_ovr.predict(X_test)\n",
        "\n",
        "# Calculate the accuracy of the model\n",
        "accuracy_ovr = accuracy_score(y_test, y_pred_ovr)\n",
        "print(\"Accuracy with 'ovr' multiclass:\", accuracy_ovr)"
      ],
      "metadata": {
        "colab": {
          "base_uri": "https://localhost:8080/"
        },
        "id": "kV1PxReJGa4k",
        "outputId": "39bad57f-131c-4df3-d296-6662aff9a747"
      },
      "execution_count": null,
      "outputs": [
        {
          "output_type": "stream",
          "name": "stdout",
          "text": [
            "Accuracy with 'ovr' multiclass: 0.8947368421052632\n"
          ]
        }
      ]
    },
    {
      "cell_type": "markdown",
      "source": [
        "#### 6) C Write a Python program to apply GridSearchCV to tune the hyperparameters (C and penalty) of Logistic Regression. Print the best parameters and accuracy."
      ],
      "metadata": {
        "id": "gWShc0kVHBRg"
      }
    },
    {
      "cell_type": "code",
      "source": [
        "from sklearn.model_selection import GridSearchCV\n",
        "\n",
        "# Define the parameter grid for GridSearchCV\n",
        "param_grid = {'C': [0.001, 0.01, 0.1, 1, 10, 100],\n",
        "              'penalty': ['l1', 'l2']}\n",
        "\n",
        "# Create a Logistic Regression model\n",
        "model = LogisticRegression(max_iter=1000)\n",
        "\n",
        "# Create a GridSearchCV object\n",
        "grid_search = GridSearchCV(estimator=model, param_grid=param_grid, cv=5)\n",
        "\n",
        "# Fit the GridSearchCV object to the training data\n",
        "grid_search.fit(X_train, y_train)\n",
        "\n",
        "# Print the best parameters and accuracy\n",
        "print(\"Best Parameters:\", grid_search.best_params_)\n",
        "print(\"Best Accuracy:\", grid_search.best_score_)"
      ],
      "metadata": {
        "colab": {
          "base_uri": "https://localhost:8080/"
        },
        "id": "TNx2LHcTG9hZ",
        "outputId": "c06319c5-7ee9-47c9-bf97-4af68233d6a1"
      },
      "execution_count": null,
      "outputs": [
        {
          "output_type": "stream",
          "name": "stdout",
          "text": [
            "Best Parameters: {'C': 10, 'penalty': 'l2'}\n",
            "Best Accuracy: 0.9731225296442687\n"
          ]
        }
      ]
    },
    {
      "cell_type": "markdown",
      "source": [
        "#### 7) Write a Python program to evaluate Logistic Regression using Stratified K-Fold Cross-Validation. Print the average accuracy."
      ],
      "metadata": {
        "id": "l2fQeEoeHXSt"
      }
    },
    {
      "cell_type": "code",
      "source": [
        "from sklearn.model_selection import StratifiedKFold, cross_val_score\n",
        "\n",
        "# Create a Logistic Regression model\n",
        "model = LogisticRegression(max_iter=1000)\n",
        "\n",
        "# Create a StratifiedKFold object\n",
        "stratified_kfold = StratifiedKFold(n_splits=5)\n",
        "\n",
        "# Perform cross-validation\n",
        "scores = cross_val_score(model, X, y, cv=stratified_kfold)\n",
        "\n",
        "# Print the average accuracy\n",
        "print(\"Average Accuracy:\", scores.mean())"
      ],
      "metadata": {
        "colab": {
          "base_uri": "https://localhost:8080/"
        },
        "id": "Qc5bfBkmHVGh",
        "outputId": "bace9bee-5590-489c-9370-49e9c26c9678"
      },
      "execution_count": null,
      "outputs": [
        {
          "output_type": "stream",
          "name": "stdout",
          "text": [
            "Average Accuracy: 0.9733333333333334\n"
          ]
        }
      ]
    },
    {
      "cell_type": "markdown",
      "source": [
        "#### 8) Write a Python program to load a dataset from a CSV file, apply Logistic Regression, and evaluate its accuracy."
      ],
      "metadata": {
        "id": "zbss26KWHoI5"
      }
    },
    {
      "cell_type": "code",
      "source": [
        "import pandas as pd\n",
        "from sklearn.model_selection import train_test_split\n",
        "from sklearn.linear_model import LogisticRegression\n",
        "from sklearn.metrics import accuracy_score\n",
        "import warnings\n",
        "warnings.filterwarnings('ignore')\n",
        "\n",
        "# Load the dataset from a CSV file\n",
        "data = pd.read_csv('california_housing.csv')\n",
        "\n",
        "# Assuming the last column is the target variable\n",
        "X = data.iloc[:, :-1]  # Features\n",
        "y = data.iloc[:, -1]   # Target variable\n",
        "\n",
        "# Split the data into training and testing sets\n",
        "X_train, X_test, y_train, y_test = train_test_split(X, y, test_size=0.25, random_state=1)\n",
        "\n",
        "# Create a Logistic Regression model\n",
        "model = LogisticRegression(max_iter=1000)\n",
        "\n",
        "# Train the model\n",
        "model.fit(X_train, y_train)\n",
        "\n",
        "# Make predictions on the test set\n",
        "y_pred = model.predict(X_test)\n",
        "\n",
        "# Evaluate the accuracy of the model\n",
        "accuracy = accuracy_score(y_test, y_pred)\n",
        "print(\"Accuracy:\", accuracy)"
      ],
      "metadata": {
        "colab": {
          "base_uri": "https://localhost:8080/"
        },
        "id": "vty2QCQgLb0C",
        "outputId": "40535954-7145-4bae-e46d-e3f69f7c1856"
      },
      "execution_count": 7,
      "outputs": [
        {
          "output_type": "stream",
          "name": "stdout",
          "text": [
            "Accuracy: 0.015037593984962405\n"
          ]
        }
      ]
    },
    {
      "cell_type": "markdown",
      "source": [
        "#### 9) Write a Python program to apply RandomizedSearchCV for tuning hyperparameters (C, penalty, solver) in Logistic Regression. Print the best parameters and accuracy."
      ],
      "metadata": {
        "id": "0IAlTFiFMbnF"
      }
    },
    {
      "cell_type": "code",
      "source": [
        "from sklearn.model_selection import RandomizedSearchCV\n",
        "\n",
        "# Define the parameter distribution for RandomizedSearchCV\n",
        "param_dist = {'C': [0.001, 0.01, 0.1, 1, 10, 100],\n",
        "              'penalty': ['l1', 'l2'],\n",
        "              'solver': ['liblinear', 'saga']}\n",
        "\n",
        "# Create a Logistic Regression model\n",
        "model = LogisticRegression(max_iter=1000)\n",
        "\n",
        "# Create a RandomizedSearchCV object\n",
        "random_search = RandomizedSearchCV(estimator=model, param_distributions=param_dist, n_iter=10, cv=5, random_state=1)\n",
        "\n",
        "# Fit the RandomizedSearchCV object to the training data\n",
        "random_search.fit(X_train, y_train)\n",
        "\n",
        "# Print the best parameters and accuracy\n",
        "print(\"Best Parameters:\", random_search.best_params_)\n",
        "print(\"Best Accuracy:\", random_search.best_score_)"
      ],
      "metadata": {
        "colab": {
          "base_uri": "https://localhost:8080/"
        },
        "id": "OHXy-_kfOYvY",
        "outputId": "74be58c2-ccb4-4367-ee4f-7c1954971143"
      },
      "execution_count": 7,
      "outputs": [
        {
          "output_type": "stream",
          "name": "stdout",
          "text": [
            "Best Parameters: {'solver': 'saga', 'penalty': 'l1', 'C': 1}\n",
            "Best Accuracy: 0.9731225296442687\n"
          ]
        }
      ]
    },
    {
      "cell_type": "markdown",
      "source": [
        "#### 10) Write a Python program to implement One-vs-One (OvO) Multiclass Logistic Regression and print accuracy."
      ],
      "metadata": {
        "id": "7tzNvM1YM8KE"
      }
    },
    {
      "cell_type": "code",
      "source": [
        "from sklearn.model_selection import train_test_split\n",
        "from sklearn.linear_model import LogisticRegression\n",
        "from sklearn.datasets import load_iris\n",
        "from sklearn.metrics import accuracy_score\n",
        "from sklearn.multiclass import OneVsOneClassifier\n",
        "import warnings\n",
        "\n",
        "warnings.filterwarnings('ignore')\n",
        "\n",
        "# Load the Iris dataset\n",
        "iris = load_iris()\n",
        "X = iris.data\n",
        "y = iris.target\n",
        "\n",
        "# Split the dataset into training and testing sets\n",
        "X_train, X_test, y_train, y_test = train_test_split(X, y, test_size=0.25, random_state=1)\n",
        "\n",
        "# Create a Logistic Regression model\n",
        "model = LogisticRegression(max_iter=1000)\n",
        "\n",
        "# Create a OneVsOneClassifier using the Logistic Regression model\n",
        "ovo_classifier = OneVsOneClassifier(model)\n",
        "\n",
        "# Train the OvO classifier\n",
        "ovo_classifier.fit(X_train, y_train)\n",
        "\n",
        "# Make predictions on the test set\n",
        "y_pred = ovo_classifier.predict(X_test)\n",
        "\n",
        "# Calculate the accuracy of the model\n",
        "accuracy = accuracy_score(y_test, y_pred)\n",
        "print(\"Accuracy with One-vs-One Logistic Regression:\", accuracy)\n"
      ],
      "metadata": {
        "colab": {
          "base_uri": "https://localhost:8080/"
        },
        "id": "tjqswJHTOMfM",
        "outputId": "a64b0afd-7b0f-45cb-d637-1d348920b28e"
      },
      "execution_count": 5,
      "outputs": [
        {
          "output_type": "stream",
          "name": "stdout",
          "text": [
            "Accuracy with One-vs-One Logistic Regression: 0.9736842105263158\n"
          ]
        }
      ]
    },
    {
      "cell_type": "markdown",
      "source": [
        "#### 11) Write a Python program to train a Logistic Regression model and visualize the confusion matrix for binary classification."
      ],
      "metadata": {
        "id": "S97usZIiOdEu"
      }
    },
    {
      "cell_type": "code",
      "source": [
        "from sklearn.metrics import confusion_matrix\n",
        "import matplotlib.pyplot as plt\n",
        "import seaborn as sns\n",
        "\n",
        "# Create the confusion matrix\n",
        "cm = confusion_matrix(y_test, y_pred)\n",
        "\n",
        "# Visualize the confusion matrix using seaborn\n",
        "plt.figure(figsize=(8, 6))\n",
        "sns.heatmap(cm, annot=True, fmt='d', cmap='Blues', xticklabels=['Predicted Negative', 'Predicted Positive'], yticklabels=['Actual Negative', 'Actual Positive'])\n",
        "plt.xlabel('Predicted Labels')\n",
        "plt.ylabel('True Labels')\n",
        "plt.title('Confusion Matrix for Logistic Regression')\n",
        "plt.show()"
      ],
      "metadata": {
        "colab": {
          "base_uri": "https://localhost:8080/",
          "height": 564
        },
        "id": "wNZ4-YEhOnFW",
        "outputId": "55fc9387-58c1-400a-e3b5-43fe933c9698"
      },
      "execution_count": 8,
      "outputs": [
        {
          "output_type": "display_data",
          "data": {
            "text/plain": [
              "<Figure size 800x600 with 2 Axes>"
            ],
            "image/png": "[encoded data removed]"
          },
          "metadata": {}
        }
      ]
    },
    {
      "cell_type": "markdown",
      "source": [
        "#### 12) Write a Python program to train a Logistic Regression model and evaluate its performance using Precision,Recall, and F1-Score."
      ],
      "metadata": {
        "id": "nRPW4_i0OxEe"
      }
    },
    {
      "cell_type": "code",
      "source": [
        "# Recall, and F1-Score.\n",
        "from sklearn.metrics import precision_score, recall_score, f1_score\n",
        "\n",
        "# have already trained your model and have y_test and y_pred\n",
        "\n",
        "# Calculate precision\n",
        "precision = precision_score(y_test, y_pred, average='weighted')  # Use 'weighted' for multi-class\n",
        "print(\"Precision:\", precision)\n",
        "\n",
        "# Calculate recall\n",
        "recall = recall_score(y_test, y_pred, average='weighted')\n",
        "print(\"Recall:\", recall)\n",
        "\n",
        "# Calculate F1-score\n",
        "f1 = f1_score(y_test, y_pred, average='weighted')\n",
        "print(\"F1-Score:\", f1)"
      ],
      "metadata": {
        "colab": {
          "base_uri": "https://localhost:8080/"
        },
        "id": "OQjEuS07PBTT",
        "outputId": "6637b396-8bbf-4d64-ac32-c3a83229bf84"
      },
      "execution_count": 10,
      "outputs": [
        {
          "output_type": "stream",
          "name": "stdout",
          "text": [
            "Precision: 0.9763157894736842\n",
            "Recall: 0.9736842105263158\n",
            "F1-Score: 0.9739522830846216\n"
          ]
        }
      ]
    },
    {
      "cell_type": "markdown",
      "source": [
        "#### 13) Write a Python program to train a Logistic Regression model on imbalanced data and apply class weights to improve model performance."
      ],
      "metadata": {
        "id": "XVLdWAZ8PIOm"
      }
    },
    {
      "cell_type": "code",
      "source": [
        "# Load the Iris dataset\n",
        "iris = load_iris()\n",
        "X = iris.data\n",
        "y = iris.target\n",
        "\n",
        "# Create an imbalanced dataset\n",
        "X = X[:100]  # Keep only the first two classes\n",
        "y = y[:100]\n",
        "y[:50] = 0  # Make the first 50 samples belong to class 0\n",
        "y[50:] = 1  # Make the remaining 50 samples belong to class 1\n",
        "\n",
        "# Split the dataset into training and testing sets\n",
        "X_train, X_test, y_train, y_test = train_test_split(X, y, test_size=0.25, random_state=1)\n",
        "\n",
        "# Calculate the class weights (inverse of the class frequencies)\n",
        "from collections import Counter\n",
        "counter = Counter(y_train)\n",
        "class_weights = {i: 1.0 / counter[i] for i in counter}\n",
        "\n",
        "# Create a Logistic Regression model with class weights\n",
        "model = LogisticRegression(class_weight=class_weights, max_iter=1000)\n",
        "\n",
        "# Train the model\n",
        "model.fit(X_train, y_train)\n",
        "\n",
        "# Make predictions on the test set\n",
        "y_pred = model.predict(X_test)\n",
        "\n",
        "# Evaluate the model\n",
        "accuracy = accuracy_score(y_test, y_pred)\n",
        "print(\"Accuracy:\", accuracy)"
      ],
      "metadata": {
        "colab": {
          "base_uri": "https://localhost:8080/"
        },
        "id": "LQVgvv2JPclj",
        "outputId": "9a0ca312-7b8f-4d25-8a00-19a178b99fdc"
      },
      "execution_count": 11,
      "outputs": [
        {
          "output_type": "stream",
          "name": "stdout",
          "text": [
            "Accuracy: 1.0\n"
          ]
        }
      ]
    },
    {
      "cell_type": "markdown",
      "source": [
        "#### 14) Write a Python program to train Logistic Regression on the Titanic dataset, handle missing values, and evaluate performance."
      ],
      "metadata": {
        "id": "j8cQdGDoPlie"
      }
    },
    {
      "cell_type": "code",
      "source": [
        "import seaborn as sns\n",
        "from sklearn.model_selection import train_test_split\n",
        "from sklearn.linear_model import LogisticRegression\n",
        "from sklearn.preprocessing import StandardScaler\n",
        "from sklearn.metrics import accuracy_score\n",
        "\n",
        "# Load the Titanic dataset\n",
        "titanic_data = sns.load_dataset('titanic')\n",
        "\n",
        "# Select relevant features and target variable\n",
        "features = ['pclass', 'sex', 'age', 'sibsp', 'parch', 'fare', 'embarked']\n",
        "target = 'survived'\n",
        "\n",
        "# Create a copy of the data for preprocessing\n",
        "data = titanic_data[features + [target]].copy()\n",
        "\n",
        "# Convert categorical features to numerical using one-hot encoding\n",
        "data = pd.get_dummies(data, columns=['sex', 'embarked'], dummy_na=True)\n",
        "\n",
        "# Handle missing values using SimpleImputer (e.g., replace with the mean)\n",
        "imputer = SimpleImputer(strategy='mean')\n",
        "data['age'] = imputer.fit_transform(data[['age']])\n",
        "\n",
        "# Split the data into training and testing sets\n",
        "X = data.drop(target, axis=1)\n",
        "y = data[target]\n",
        "X_train, X_test, y_train, y_test = train_test_split(X, y, test_size=0.25, random_state=42)\n",
        "\n",
        "# Scale the features using StandardScaler\n",
        "scaler = StandardScaler()\n",
        "X_train = scaler.fit_transform(X_train)\n",
        "X_test = scaler.transform(X_test)\n",
        "\n",
        "# Train a Logistic Regression model\n",
        "model = LogisticRegression(max_iter=1000)\n",
        "model.fit(X_train, y_train)\n",
        "\n",
        "# Make predictions on the test set\n",
        "y_pred = model.predict(X_test)\n",
        "\n",
        "# Evaluate the model's accuracy\n",
        "accuracy = accuracy_score(y_test, y_pred)\n",
        "print(\"Accuracy:\", accuracy)"
      ],
      "metadata": {
        "colab": {
          "base_uri": "https://localhost:8080/"
        },
        "id": "-5KmDvH9P3TQ",
        "outputId": "745f120a-6872-41f8-db0d-48ae5a4d0cb6"
      },
      "execution_count": 20,
      "outputs": [
        {
          "output_type": "stream",
          "name": "stdout",
          "text": [
            "Accuracy: 0.8071748878923767\n"
          ]
        }
      ]
    },
    {
      "cell_type": "markdown",
      "source": [
        "#### 15) Write a Python program to apply feature scaling (Standardization) before training a Logistic Regression model. Evaluate its accuracy and compare results with and without scaling."
      ],
      "metadata": {
        "id": "-Es8poOSRjzI"
      }
    },
    {
      "cell_type": "code",
      "source": [
        "from sklearn.model_selection import train_test_split\n",
        "from sklearn.linear_model import LogisticRegression\n",
        "from sklearn.datasets import load_iris\n",
        "from sklearn.metrics import accuracy_score\n",
        "from sklearn.preprocessing import StandardScaler\n",
        "\n",
        "# Load the Iris dataset\n",
        "iris = load_iris()\n",
        "X = iris.data\n",
        "y = iris.target\n",
        "\n",
        "# Split the dataset into training and testing sets\n",
        "X_train, X_test, y_train, y_test = train_test_split(X, y, test_size=0.3, random_state=1)\n",
        "\n",
        "# Create a Logistic Regression model\n",
        "model = LogisticRegression(max_iter=1000)\n",
        "\n",
        "# Train the model without scaling\n",
        "model.fit(X_train, y_train)\n",
        "\n",
        "# Make predictions on the test set without scaling\n",
        "y_pred_no_scaling = model.predict(X_test)\n",
        "\n",
        "# Calculate the accuracy of the model without scaling\n",
        "accuracy_no_scaling = accuracy_score(y_test, y_pred_no_scaling)\n",
        "print(\"Accuracy without scaling:\", accuracy_no_scaling)\n",
        "\n",
        "# Apply feature scaling (Standardization)\n",
        "scaler = StandardScaler()\n",
        "X_train_scaled = scaler.fit_transform(X_train)\n",
        "X_test_scaled = scaler.transform(X_test)\n",
        "\n",
        "# Train the model with scaling\n",
        "model.fit(X_train_scaled, y_train)\n",
        "\n",
        "# Make predictions on the test set with scaling\n",
        "y_pred_scaling = model.predict(X_test_scaled)\n",
        "\n",
        "# Calculate the accuracy of the model with scaling\n",
        "accuracy_scaling = accuracy_score(y_test, y_pred_scaling)\n",
        "print(\"Accuracy with scaling:\", accuracy_scaling)\n",
        "\n",
        "# Compare the results\n",
        "print(\"Difference in accuracy:\", accuracy_scaling - accuracy_no_scaling)"
      ],
      "metadata": {
        "colab": {
          "base_uri": "https://localhost:8080/"
        },
        "id": "Kt4sbRVCRvV_",
        "outputId": "025c167b-b755-4d3e-8120-ca59879b04f6"
      },
      "execution_count": 21,
      "outputs": [
        {
          "output_type": "stream",
          "name": "stdout",
          "text": [
            "Accuracy without scaling: 0.9777777777777777\n",
            "Accuracy with scaling: 0.9555555555555556\n",
            "Difference in accuracy: -0.022222222222222143\n"
          ]
        }
      ]
    },
    {
      "cell_type": "markdown",
      "source": [
        "#### 16) Write a Python program to train Logistic Regression and evaluate its performance using ROC-AUC score."
      ],
      "metadata": {
        "id": "RGnEk8ibR27M"
      }
    },
    {
      "cell_type": "code",
      "source": [
        "import numpy as np\n",
        "import pandas as pd\n",
        "from sklearn.datasets import load_breast_cancer\n",
        "from sklearn.model_selection import train_test_split\n",
        "from sklearn.preprocessing import StandardScaler\n",
        "from sklearn.linear_model import LogisticRegression\n",
        "from sklearn.metrics import roc_auc_score, roc_curve, classification_report, confusion_matrix, accuracy_score\n",
        "import matplotlib.pyplot as plt\n",
        "\n",
        "# Load dataset\n",
        "data = load_breast_cancer()\n",
        "X = data.data\n",
        "y = data.target\n",
        "\n",
        "# Train-test split\n",
        "X_train, X_test, y_train, y_test = train_test_split(X, y, test_size=0.3, random_state=1)\n",
        "\n",
        "# Feature scaling\n",
        "scaler = StandardScaler()\n",
        "X_train = scaler.fit_transform(X_train)\n",
        "X_test = scaler.transform(X_test)\n",
        "\n",
        "# Create and train Logistic Regression model\n",
        "model = LogisticRegression(max_iter=1000)\n",
        "model.fit(X_train, y_train)\n",
        "\n",
        "# Predict probabilities\n",
        "y_probs = model.predict_proba(X_test)[:, 1]  # Probability of class = 1\n",
        "\n",
        "# Calculate ROC-AUC score\n",
        "roc_auc = roc_auc_score(y_test, y_probs)\n",
        "print(f\"ROC-AUC Score: {roc_auc:.4f}\")"
      ],
      "metadata": {
        "colab": {
          "base_uri": "https://localhost:8080/"
        },
        "id": "SNDvZT0_SWZn",
        "outputId": "eb54ebdf-ac3d-48e4-df5a-c2cac2362c0b"
      },
      "execution_count": 24,
      "outputs": [
        {
          "output_type": "stream",
          "name": "stdout",
          "text": [
            "ROC-AUC Score: 0.9959\n"
          ]
        }
      ]
    },
    {
      "cell_type": "markdown",
      "source": [
        "#### 17) Write a Python program to train Logistic Regression using a custom learning rate (C=0.5) and evaluate accuracy."
      ],
      "metadata": {
        "id": "PM_aATAUS55n"
      }
    },
    {
      "cell_type": "code",
      "source": [
        "# Load the breast_cancer dataset\n",
        "data = load_breast_cancer()\n",
        "X = data.data\n",
        "y = data.target\n",
        "\n",
        "# Split the dataset into training and testing sets\n",
        "X_train, X_test, y_train, y_test = train_test_split(X, y, test_size=0.25, random_state=1)\n",
        "\n",
        "# Create a Logistic Regression model with a custom learning rate (C=0.5)\n",
        "model = LogisticRegression(C=0.5, max_iter=1000)\n",
        "\n",
        "# Train the model\n",
        "model.fit(X_train, y_train)\n",
        "\n",
        "# Make predictions on the test set\n",
        "y_pred = model.predict(X_test)\n",
        "\n",
        "# Calculate the accuracy of the model\n",
        "accuracy = accuracy_score(y_test, y_pred)\n",
        "print(\"Accuracy with custom learning rate (C=0.5):\", accuracy)"
      ],
      "metadata": {
        "colab": {
          "base_uri": "https://localhost:8080/"
        },
        "id": "0Q4iH1LHTCzL",
        "outputId": "fb3bdd43-269f-4d9d-ddc4-c6e0c1ec4289"
      },
      "execution_count": 25,
      "outputs": [
        {
          "output_type": "stream",
          "name": "stdout",
          "text": [
            "Accuracy with custom learning rate (C=0.5): 0.9370629370629371\n"
          ]
        }
      ]
    },
    {
      "cell_type": "markdown",
      "source": [
        "#### 18) Write a Python program to train Logistic Regression and identify important features based on model coefficients."
      ],
      "metadata": {
        "id": "S3JJttftTOBu"
      }
    },
    {
      "cell_type": "code",
      "source": [
        "import pandas as pd\n",
        "import numpy as np\n",
        "\n",
        "# Load the Iris dataset\n",
        "iris = load_iris()\n",
        "X = iris.data\n",
        "y = iris.target\n",
        "\n",
        "# Split the dataset into training and testing sets\n",
        "X_train, X_test, y_train, y_test = train_test_split(X, y, test_size=0.25, random_state=1)\n",
        "\n",
        "# Create and train a Logistic Regression model\n",
        "model = LogisticRegression(max_iter=1000)\n",
        "model.fit(X_train, y_train)\n",
        "\n",
        "# Get the coefficients of the model\n",
        "coefficients = model.coef_\n",
        "\n",
        "# Create a DataFrame to store the feature names and their corresponding coefficients\n",
        "feature_importance = pd.DataFrame({'Feature': iris.feature_names, 'Coefficient': coefficients[0]})\n",
        "\n",
        "# Sort the features by the absolute value of their coefficients (importance)\n",
        "feature_importance['Abs_Coefficient'] = np.abs(feature_importance['Coefficient'])\n",
        "feature_importance = feature_importance.sort_values('Abs_Coefficient', ascending=False)\n",
        "\n",
        "# Print the important features\n",
        "print(\"Important Features based on Coefficients:\")\n",
        "print(feature_importance[['Feature', 'Coefficient']])"
      ],
      "metadata": {
        "colab": {
          "base_uri": "https://localhost:8080/"
        },
        "id": "K032n64OTKv7",
        "outputId": "7da1ede6-09c7-4a5e-ad3a-89ec14c99e52"
      },
      "execution_count": 27,
      "outputs": [
        {
          "output_type": "stream",
          "name": "stdout",
          "text": [
            "Important Features based on Coefficients:\n",
            "             Feature  Coefficient\n",
            "2  petal length (cm)    -2.304520\n",
            "3   petal width (cm)    -0.950636\n",
            "1   sepal width (cm)     0.804470\n",
            "0  sepal length (cm)    -0.430520\n"
          ]
        }
      ]
    },
    {
      "cell_type": "markdown",
      "source": [
        "#### 19) Write a Python program to train Logistic Regression and evaluate its performance using Cohen’s Kappa Score."
      ],
      "metadata": {
        "id": "7scTf5FUT9lY"
      }
    },
    {
      "cell_type": "code",
      "source": [
        "import numpy as np\n",
        "import pandas as pd\n",
        "from sklearn.datasets import load_breast_cancer\n",
        "from sklearn.model_selection import train_test_split\n",
        "from sklearn.preprocessing import StandardScaler\n",
        "from sklearn.linear_model import LogisticRegression\n",
        "from sklearn.metrics import cohen_kappa_score\n",
        "\n",
        "# Load dataset\n",
        "data = load_breast_cancer()\n",
        "X = data.data\n",
        "y = data.target\n",
        "\n",
        "# Train-test split\n",
        "X_train, X_test, y_train, y_test = train_test_split(X, y, test_size=0.25, random_state=1)\n",
        "\n",
        "# Feature scaling\n",
        "scaler = StandardScaler()\n",
        "X_train = scaler.fit_transform(X_train)\n",
        "X_test = scaler.transform(X_test)\n",
        "\n",
        "# Create and train Logistic Regression model\n",
        "model = LogisticRegression(max_iter=1000)\n",
        "model.fit(X_train, y_train)\n",
        "\n",
        "# Make predictions\n",
        "y_pred = model.predict(X_test)\n",
        "\n",
        "# Calculate Cohen's Kappa Score\n",
        "kappa_score = cohen_kappa_score(y_test, y_pred)\n",
        "print(f\"Cohen's Kappa Score: {kappa_score:.4f}\")"
      ],
      "metadata": {
        "colab": {
          "base_uri": "https://localhost:8080/"
        },
        "id": "PL-Z8Z5hT3Mo",
        "outputId": "95bf4a9f-bf12-4278-d850-4723ad4a7757"
      },
      "execution_count": 30,
      "outputs": [
        {
          "output_type": "stream",
          "name": "stdout",
          "text": [
            "Cohen's Kappa Score: 0.9555\n"
          ]
        }
      ]
    },
    {
      "cell_type": "markdown",
      "source": [
        "#### 20) Write a Python program to train Logistic Regression and visualize the Precision-Recall Curve for binary classification."
      ],
      "metadata": {
        "id": "aXOpRbTpUgNI"
      }
    },
    {
      "cell_type": "code",
      "source": [
        "from sklearn.linear_model import LogisticRegression\n",
        "from sklearn.model_selection import train_test_split\n",
        "from sklearn.metrics import precision_recall_curve, auc\n",
        "import matplotlib.pyplot as plt\n",
        "from sklearn.datasets import load_breast_cancer\n",
        "from sklearn.preprocessing import StandardScaler\n",
        "\n",
        "# Load the dataset (Breast Cancer dataset is a good example for binary classification)\n",
        "data = load_breast_cancer()\n",
        "X = data.data\n",
        "y = data.target\n",
        "\n",
        "# Split the data into training and testing sets\n",
        "X_train, X_test, y_train, y_test = train_test_split(X, y, test_size=0.30, random_state=1)\n",
        "\n",
        "# Feature scaling\n",
        "scaler = StandardScaler()\n",
        "X_train = scaler.fit_transform(X_train)\n",
        "X_test = scaler.transform(X_test)\n",
        "\n",
        "# Train a Logistic Regression model\n",
        "model = LogisticRegression(max_iter=1000)\n",
        "model.fit(X_train, y_train)\n",
        "\n",
        "# Predict probabilities for the positive class\n",
        "y_probs = model.predict_proba(X_test)[:, 1]\n",
        "\n",
        "# Calculate precision, recall, and thresholds\n",
        "precision, recall, thresholds = precision_recall_curve(y_test, y_probs)\n",
        "\n",
        "# Calculate AUC (Area Under the Curve) for Precision-Recall\n",
        "pr_auc = auc(recall, precision)\n",
        "\n",
        "# Plot the Precision-Recall curve\n",
        "plt.plot(recall, precision, label=f'Precision-Recall curve (AUC = {pr_auc:.2f})')\n",
        "plt.xlabel('Recall')\n",
        "plt.ylabel('Precision')\n",
        "plt.title('Precision-Recall Curve for Logistic Regression')\n",
        "plt.legend(loc='lower left')\n",
        "plt.show()"
      ],
      "metadata": {
        "colab": {
          "base_uri": "https://localhost:8080/",
          "height": 472
        },
        "id": "f0__I9tnUuXs",
        "outputId": "46245a10-674c-4e7c-ae33-69d753c9e3a4"
      },
      "execution_count": 33,
      "outputs": [
        {
          "output_type": "display_data",
          "data": {
            "text/plain": [
              "<Figure size 640x480 with 1 Axes>"
            ],
            "image/png": "[encoded data removed]"
          },
          "metadata": {}
        }
      ]
    },
    {
      "cell_type": "markdown",
      "source": [
        "#### 21) Write a Python program to train Logistic Regression with different solvers (liblinear, saga, lbfgs) and compare their accuracy."
      ],
      "metadata": {
        "id": "R4urBo-BVB13"
      }
    },
    {
      "cell_type": "code",
      "source": [
        "# Load the Iris dataset\n",
        "iris = load_iris()\n",
        "X = iris.data\n",
        "y = iris.target\n",
        "\n",
        "# Split the dataset into training and testing sets\n",
        "X_train, X_test, y_train, y_test = train_test_split(X, y, test_size=0.20, random_state=1)\n",
        "\n",
        "# Define a list of solvers to compare\n",
        "solvers = ['liblinear', 'saga', 'lbfgs']\n",
        "\n",
        "# Loop through the solvers and train a Logistic Regression model for each\n",
        "for solver in solvers:\n",
        "    model = LogisticRegression(solver=solver, max_iter=1000)\n",
        "    model.fit(X_train, y_train)\n",
        "    y_pred = model.predict(X_test)\n",
        "    accuracy = accuracy_score(y_test, y_pred)\n",
        "    print(f\"Accuracy with solver {solver}: {accuracy}\")"
      ],
      "metadata": {
        "colab": {
          "base_uri": "https://localhost:8080/"
        },
        "id": "6nne7vkcVNW6",
        "outputId": "347d6495-7612-4627-eada-015beca412a5"
      },
      "execution_count": 35,
      "outputs": [
        {
          "output_type": "stream",
          "name": "stdout",
          "text": [
            "Accuracy with solver liblinear: 0.8333333333333334\n",
            "Accuracy with solver saga: 0.9666666666666667\n",
            "Accuracy with solver lbfgs: 0.9666666666666667\n"
          ]
        }
      ]
    },
    {
      "cell_type": "markdown",
      "source": [
        "#### 22) Write a Python program to train Logistic Regression and evaluate its performance using Matthews Correlation Coefficient (MCC)."
      ],
      "metadata": {
        "id": "rD8IDKueVSL_"
      }
    },
    {
      "cell_type": "code",
      "source": [
        "from sklearn.datasets import load_breast_cancer\n",
        "from sklearn.model_selection import train_test_split\n",
        "from sklearn.preprocessing import StandardScaler\n",
        "from sklearn.linear_model import LogisticRegression\n",
        "from sklearn.metrics import matthews_corrcoef\n",
        "\n",
        "# Load dataset\n",
        "data = load_breast_cancer()\n",
        "X = data.data\n",
        "y = data.target\n",
        "\n",
        "# Train-test split\n",
        "X_train, X_test, y_train, y_test = train_test_split(X, y, test_size=0.2, random_state=42)\n",
        "\n",
        "# Feature scaling\n",
        "scaler = StandardScaler()\n",
        "X_train = scaler.fit_transform(X_train)\n",
        "X_test = scaler.transform(X_test)\n",
        "\n",
        "# Create and train Logistic Regression model\n",
        "model = LogisticRegression(max_iter=1000)\n",
        "model.fit(X_train, y_train)\n",
        "\n",
        "# Make predictions\n",
        "y_pred = model.predict(X_test)\n",
        "\n",
        "# Calculate Matthews Correlation Coefficient (MCC)\n",
        "mcc_score = matthews_corrcoef(y_test, y_pred)\n",
        "print(f\"Matthews Correlation Coefficient (MCC): {mcc_score:.4f}\")"
      ],
      "metadata": {
        "colab": {
          "base_uri": "https://localhost:8080/"
        },
        "id": "u9HqTPXkViJb",
        "outputId": "a9a01f71-0afe-4d1f-fd03-0b20a305debb"
      },
      "execution_count": 39,
      "outputs": [
        {
          "output_type": "stream",
          "name": "stdout",
          "text": [
            "Matthews Correlation Coefficient (MCC): 0.9439\n"
          ]
        }
      ]
    },
    {
      "cell_type": "markdown",
      "source": [
        "#### 23) Write a Python program to train Logistic Regression on both raw and standardized data. Compare their accuracy to see the impact of feature scaling."
      ],
      "metadata": {
        "id": "YLA8jbirVx5S"
      }
    },
    {
      "cell_type": "code",
      "source": [
        "from sklearn.model_selection import train_test_split\n",
        "from sklearn.linear_model import LogisticRegression\n",
        "from sklearn.preprocessing import StandardScaler\n",
        "from sklearn.metrics import accuracy_score\n",
        "from sklearn.datasets import load_iris\n",
        "\n",
        "# Load the Iris dataset\n",
        "iris = load_iris()\n",
        "X = iris.data\n",
        "y = iris.target\n",
        "\n",
        "# Split the data into training and testing sets\n",
        "X_train, X_test, y_train, y_test = train_test_split(X, y, test_size=0.2, random_state=42)\n",
        "\n",
        "# Train Logistic Regression on raw data\n",
        "model_raw = LogisticRegression(max_iter=1000)\n",
        "model_raw.fit(X_train, y_train)\n",
        "y_pred_raw = model_raw.predict(X_test)\n",
        "accuracy_raw = accuracy_score(y_test, y_pred_raw)\n",
        "print(f\"Accuracy on raw data: {accuracy_raw}\")\n",
        "\n",
        "# Standardize the data\n",
        "scaler = StandardScaler()\n",
        "X_train_scaled = scaler.fit_transform(X_train)\n",
        "X_test_scaled = scaler.transform(X_test)\n",
        "\n",
        "# Train Logistic Regression on standardized data\n",
        "model_scaled = LogisticRegression(max_iter=1000)\n",
        "model_scaled.fit(X_train_scaled, y_train)\n",
        "y_pred_scaled = model_scaled.predict(X_test_scaled)\n",
        "accuracy_scaled = accuracy_score(y_test, y_pred_scaled)\n",
        "print(f\"Accuracy on standardized data: {accuracy_scaled}\")\n",
        "\n",
        "# Compare the accuracy\n",
        "print(f\"Difference in accuracy: {accuracy_scaled - accuracy_raw}\")"
      ],
      "metadata": {
        "colab": {
          "base_uri": "https://localhost:8080/"
        },
        "id": "ObttMoDoV8lL",
        "outputId": "b4313281-63d3-4786-9bf5-88513eef3b79"
      },
      "execution_count": 40,
      "outputs": [
        {
          "output_type": "stream",
          "name": "stdout",
          "text": [
            "Accuracy on raw data: 1.0\n",
            "Accuracy on standardized data: 1.0\n",
            "Difference in accuracy: 0.0\n"
          ]
        }
      ]
    },
    {
      "cell_type": "markdown",
      "source": [
        "#### 24) Write a Python program to train Logistic Regression and find the optimal C (regularization strength) using cross-validation."
      ],
      "metadata": {
        "id": "fm7vBLqWWCTX"
      }
    },
    {
      "cell_type": "code",
      "source": [
        "from sklearn.datasets import load_iris\n",
        "from sklearn.model_selection import train_test_split\n",
        "from sklearn.linear_model import LogisticRegression\n",
        "from sklearn.metrics import accuracy_score\n",
        "from sklearn.model_selection import cross_val_score\n",
        "\n",
        "# Load the Iris dataset\n",
        "iris = load_iris()\n",
        "X = iris.data\n",
        "y = iris.target\n",
        "\n",
        "# Split the data into training and testing sets\n",
        "X_train, X_test, y_train, y_test = train_test_split(X, y, test_size=0.3, random_state=1)\n",
        "\n",
        "# Define a range of C values to test\n",
        "C_values = [0.001, 0.01, 0.1, 1, 10, 100]\n",
        "\n",
        "# Create a dictionary to store the cross-validation scores for each C value\n",
        "cv_scores = {}\n",
        "\n",
        "# Perform cross-validation for each C value\n",
        "for C in C_values:\n",
        "  model = LogisticRegression(C=C, max_iter=1000)\n",
        "  scores = cross_val_score(model, X_train, y_train, cv=5)  # 5-fold cross-validation\n",
        "  cv_scores[C] = scores.mean()\n",
        "\n",
        "# Find the C value with the highest cross-validation score\n",
        "best_C = max(cv_scores, key=cv_scores.get)\n",
        "print(f\"Optimal C value: {best_C}\")\n",
        "\n",
        "# Train a Logistic Regression model with the best C value\n",
        "model = LogisticRegression(C=best_C, max_iter=1000)\n",
        "model.fit(X_train, y_train)\n",
        "\n",
        "# Make predictions on the test set\n",
        "y_pred = model.predict(X_test)\n",
        "\n",
        "# Evaluate the accuracy of the model\n",
        "accuracy = accuracy_score(y_test, y_pred)\n",
        "print(f\"Accuracy with optimal C value: {accuracy}\")"
      ],
      "metadata": {
        "colab": {
          "base_uri": "https://localhost:8080/"
        },
        "id": "FD6zWOYdWKid",
        "outputId": "ee88d840-3fa4-4e80-8ab6-6511cde7c3ae"
      },
      "execution_count": 44,
      "outputs": [
        {
          "output_type": "stream",
          "name": "stdout",
          "text": [
            "Optimal C value: 1\n",
            "Accuracy with optimal C value: 0.9777777777777777\n"
          ]
        }
      ]
    },
    {
      "cell_type": "markdown",
      "source": [
        "#### 25) Write a Python program to train Logistic Regression, save the trained model using joblib, and load it again to make predictions."
      ],
      "metadata": {
        "id": "WHKkjNIXXdxW"
      }
    },
    {
      "cell_type": "code",
      "source": [
        "import joblib\n",
        "from sklearn.linear_model import LogisticRegression\n",
        "from sklearn.model_selection import train_test_split\n",
        "from sklearn.datasets import load_iris\n",
        "from sklearn.metrics import accuracy_score\n",
        "\n",
        "# Load the Iris dataset\n",
        "iris = load_iris()\n",
        "X = iris.data\n",
        "y = iris.target\n",
        "\n",
        "# Split the dataset into training and testing sets\n",
        "X_train, X_test, y_train, y_test = train_test_split(X, y, test_size=0.25, random_state=1)\n",
        "\n",
        "# Create and train a Logistic Regression model\n",
        "model = LogisticRegression(max_iter=1000)\n",
        "model.fit(X_train, y_train)\n",
        "\n",
        "# Save the trained model using joblib\n",
        "joblib.dump(model, 'logistic_regression_model.joblib')\n",
        "\n",
        "# Load the saved model\n",
        "loaded_model = joblib.load('logistic_regression_model.joblib')\n",
        "\n",
        "# Make predictions using the loaded model\n",
        "y_pred = loaded_model.predict(X_test)\n",
        "\n",
        "# Evaluate the accuracy of the loaded model\n",
        "accuracy = accuracy_score(y_test, y_pred)\n",
        "print(\"Accuracy of the loaded model:\", accuracy)"
      ],
      "metadata": {
        "colab": {
          "base_uri": "https://localhost:8080/"
        },
        "id": "Zku33TT_Xn9_",
        "outputId": "33ac6232-ab15-4145-eb8c-befc2a27eea9"
      },
      "execution_count": 45,
      "outputs": [
        {
          "output_type": "stream",
          "name": "stdout",
          "text": [
            "Accuracy of the loaded model: 0.9736842105263158\n"
          ]
        }
      ]
    }
  ]
}